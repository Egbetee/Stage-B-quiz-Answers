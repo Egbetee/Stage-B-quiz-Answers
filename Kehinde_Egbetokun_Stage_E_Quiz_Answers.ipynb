{
  "nbformat": 4,
  "nbformat_minor": 0,
  "metadata": {
    "colab": {
      "name": "Kehinde Egbetokun Stage E Quiz Answers.ipynb",
      "provenance": [],
      "collapsed_sections": [],
      "authorship_tag": "ABX9TyMrcdF4FpuMLTeYO1bZnQdz",
      "include_colab_link": true
    },
    "kernelspec": {
      "name": "python3",
      "display_name": "Python 3"
    }
  },
  "cells": [
    {
      "cell_type": "markdown",
      "metadata": {
        "id": "view-in-github",
        "colab_type": "text"
      },
      "source": [
        "<a href=\"https://colab.research.google.com/github/K-Egbetokun/Hamoye-quiz-Answers/blob/master/Kehinde_Egbetokun_Stage_E_Quiz_Answers.ipynb\" target=\"_parent\"><img src=\"https://colab.research.google.com/assets/colab-badge.svg\" alt=\"Open In Colab\"/></a>"
      ]
    },
    {
      "cell_type": "code",
      "metadata": {
        "id": "4LW2COybV6Ct"
      },
      "source": [
        "import numpy as np\n",
        "import pandas as pd\n",
        "import matplotlib.pyplot as plt\n",
        "%matplotlib inline"
      ],
      "execution_count": 7,
      "outputs": []
    },
    {
      "cell_type": "code",
      "metadata": {
        "id": "OtRw1z1kWAo3",
        "outputId": "444bf330-c6b5-4f73-e27a-46fcaffa040d",
        "colab": {
          "base_uri": "https://localhost:8080/",
          "height": 33
        }
      },
      "source": [
        "from google.colab import drive\n",
        "drive.mount('/content/gdrive')"
      ],
      "execution_count": null,
      "outputs": [
        {
          "output_type": "stream",
          "text": [
            "Mounted at /content/gdrive\n"
          ],
          "name": "stdout"
        }
      ]
    },
    {
      "cell_type": "code",
      "metadata": {
        "id": "E0HQwcTbWJ4v",
        "outputId": "1e2d8b63-ad00-4199-c381-0e1cf377bcd1",
        "colab": {
          "base_uri": "https://localhost:8080/",
          "height": 33
        }
      },
      "source": [
        "%cd /content/gdrive/My Drive"
      ],
      "execution_count": null,
      "outputs": [
        {
          "output_type": "stream",
          "text": [
            "/content/gdrive/My Drive\n"
          ],
          "name": "stdout"
        }
      ]
    },
    {
      "cell_type": "code",
      "metadata": {
        "id": "3kaYZHG_WNXd",
        "outputId": "1baa370f-8e65-43fc-eff1-f79139444616",
        "colab": {
          "base_uri": "https://localhost:8080/",
          "height": 220
        }
      },
      "source": [
        "ts = pd.read_csv('household_power_consumption (1).txt', sep = ';', low_memory = False, infer_datetime_format=True,\\\n",
        "                 parse_dates={'date_time':[0,1]}, index_col=['date_time'])\n",
        "ts.head()"
      ],
      "execution_count": null,
      "outputs": [
        {
          "output_type": "execute_result",
          "data": {
            "text/html": [
              "<div>\n",
              "<style scoped>\n",
              "    .dataframe tbody tr th:only-of-type {\n",
              "        vertical-align: middle;\n",
              "    }\n",
              "\n",
              "    .dataframe tbody tr th {\n",
              "        vertical-align: top;\n",
              "    }\n",
              "\n",
              "    .dataframe thead th {\n",
              "        text-align: right;\n",
              "    }\n",
              "</style>\n",
              "<table border=\"1\" class=\"dataframe\">\n",
              "  <thead>\n",
              "    <tr style=\"text-align: right;\">\n",
              "      <th></th>\n",
              "      <th>Global_active_power</th>\n",
              "      <th>Global_reactive_power</th>\n",
              "      <th>Voltage</th>\n",
              "      <th>Global_intensity</th>\n",
              "      <th>Sub_metering_1</th>\n",
              "      <th>Sub_metering_2</th>\n",
              "      <th>Sub_metering_3</th>\n",
              "    </tr>\n",
              "    <tr>\n",
              "      <th>date_time</th>\n",
              "      <th></th>\n",
              "      <th></th>\n",
              "      <th></th>\n",
              "      <th></th>\n",
              "      <th></th>\n",
              "      <th></th>\n",
              "      <th></th>\n",
              "    </tr>\n",
              "  </thead>\n",
              "  <tbody>\n",
              "    <tr>\n",
              "      <th>2006-12-16 17:24:00</th>\n",
              "      <td>4.216</td>\n",
              "      <td>0.418</td>\n",
              "      <td>234.840</td>\n",
              "      <td>18.400</td>\n",
              "      <td>0.000</td>\n",
              "      <td>1.000</td>\n",
              "      <td>17.0</td>\n",
              "    </tr>\n",
              "    <tr>\n",
              "      <th>2006-12-16 17:25:00</th>\n",
              "      <td>5.360</td>\n",
              "      <td>0.436</td>\n",
              "      <td>233.630</td>\n",
              "      <td>23.000</td>\n",
              "      <td>0.000</td>\n",
              "      <td>1.000</td>\n",
              "      <td>16.0</td>\n",
              "    </tr>\n",
              "    <tr>\n",
              "      <th>2006-12-16 17:26:00</th>\n",
              "      <td>5.374</td>\n",
              "      <td>0.498</td>\n",
              "      <td>233.290</td>\n",
              "      <td>23.000</td>\n",
              "      <td>0.000</td>\n",
              "      <td>2.000</td>\n",
              "      <td>17.0</td>\n",
              "    </tr>\n",
              "    <tr>\n",
              "      <th>2006-12-16 17:27:00</th>\n",
              "      <td>5.388</td>\n",
              "      <td>0.502</td>\n",
              "      <td>233.740</td>\n",
              "      <td>23.000</td>\n",
              "      <td>0.000</td>\n",
              "      <td>1.000</td>\n",
              "      <td>17.0</td>\n",
              "    </tr>\n",
              "    <tr>\n",
              "      <th>2006-12-16 17:28:00</th>\n",
              "      <td>3.666</td>\n",
              "      <td>0.528</td>\n",
              "      <td>235.680</td>\n",
              "      <td>15.800</td>\n",
              "      <td>0.000</td>\n",
              "      <td>1.000</td>\n",
              "      <td>17.0</td>\n",
              "    </tr>\n",
              "  </tbody>\n",
              "</table>\n",
              "</div>"
            ],
            "text/plain": [
              "                    Global_active_power  ... Sub_metering_3\n",
              "date_time                                ...               \n",
              "2006-12-16 17:24:00               4.216  ...           17.0\n",
              "2006-12-16 17:25:00               5.360  ...           16.0\n",
              "2006-12-16 17:26:00               5.374  ...           17.0\n",
              "2006-12-16 17:27:00               5.388  ...           17.0\n",
              "2006-12-16 17:28:00               3.666  ...           17.0\n",
              "\n",
              "[5 rows x 7 columns]"
            ]
          },
          "metadata": {
            "tags": []
          },
          "execution_count": 4
        }
      ]
    },
    {
      "cell_type": "code",
      "metadata": {
        "id": "n3dQwdJbWkD2",
        "outputId": "ba506ef2-2af4-4fe4-9fe3-a214c7a335c8",
        "colab": {
          "base_uri": "https://localhost:8080/",
          "height": 147
        }
      },
      "source": [
        "ts.isnull().sum()"
      ],
      "execution_count": null,
      "outputs": [
        {
          "output_type": "execute_result",
          "data": {
            "text/plain": [
              "Global_active_power          0\n",
              "Global_reactive_power        0\n",
              "Voltage                      0\n",
              "Global_intensity             0\n",
              "Sub_metering_1               0\n",
              "Sub_metering_2               0\n",
              "Sub_metering_3           25979\n",
              "dtype: int64"
            ]
          },
          "metadata": {
            "tags": []
          },
          "execution_count": 5
        }
      ]
    },
    {
      "cell_type": "code",
      "metadata": {
        "id": "l7jqSUPeW9Ov"
      },
      "source": [
        "ts.replace('?', np.nan, inplace = True)"
      ],
      "execution_count": null,
      "outputs": []
    },
    {
      "cell_type": "code",
      "metadata": {
        "id": "5INz22HzaqMa",
        "outputId": "34b84022-0a2d-4fb1-b669-64371babee01",
        "colab": {
          "base_uri": "https://localhost:8080/",
          "height": 245
        }
      },
      "source": [
        "for column in ts.select_dtypes(include=['object']).columns:\n",
        "    if column != 'Time':\n",
        "        ts[[column]] = ts[[column]].astype('float')\n",
        "ts.info()"
      ],
      "execution_count": 8,
      "outputs": [
        {
          "output_type": "stream",
          "text": [
            "<class 'pandas.core.frame.DataFrame'>\n",
            "DatetimeIndex: 2075259 entries, 2006-12-16 17:24:00 to 2010-11-26 21:02:00\n",
            "Data columns (total 7 columns):\n",
            " #   Column                 Dtype  \n",
            "---  ------                 -----  \n",
            " 0   Global_active_power    float64\n",
            " 1   Global_reactive_power  float64\n",
            " 2   Voltage                float64\n",
            " 3   Global_intensity       float64\n",
            " 4   Sub_metering_1         float64\n",
            " 5   Sub_metering_2         float64\n",
            " 6   Sub_metering_3         float64\n",
            "dtypes: float64(7)\n",
            "memory usage: 126.7 MB\n"
          ],
          "name": "stdout"
        }
      ]
    },
    {
      "cell_type": "markdown",
      "metadata": {
        "id": "QBHG-blHQsXK"
      },
      "source": [
        "**QUESTION 11**"
      ]
    },
    {
      "cell_type": "code",
      "metadata": {
        "id": "VUpIQCcGYdyp",
        "outputId": "99929398-be67-45a8-d179-a034ee5ac601",
        "colab": {
          "base_uri": "https://localhost:8080/",
          "height": 147
        }
      },
      "source": [
        "df = ts.copy()\n",
        "df.fillna(df.mean(), inplace= True)\n",
        "df.isnull().sum()"
      ],
      "execution_count": 11,
      "outputs": [
        {
          "output_type": "execute_result",
          "data": {
            "text/plain": [
              "Global_active_power      0\n",
              "Global_reactive_power    0\n",
              "Voltage                  0\n",
              "Global_intensity         0\n",
              "Sub_metering_1           0\n",
              "Sub_metering_2           0\n",
              "Sub_metering_3           0\n",
              "dtype: int64"
            ]
          },
          "metadata": {
            "tags": []
          },
          "execution_count": 11
        }
      ]
    },
    {
      "cell_type": "code",
      "metadata": {
        "id": "2FgkAv6vYN0-"
      },
      "source": [
        "df_daily = df.resample('D').sum()"
      ],
      "execution_count": 12,
      "outputs": []
    },
    {
      "cell_type": "code",
      "metadata": {
        "id": "oUVYGgBJYfKM",
        "outputId": "fc6892c1-1213-4258-f1bf-ab94c6a0f283",
        "colab": {
          "base_uri": "https://localhost:8080/",
          "height": 513
        }
      },
      "source": [
        "plt.figure(figsize=(12,8))\n",
        "plt.plot(df_daily.index, df_daily.Global_active_power, marker='*' )\n",
        "plt.grid()\n",
        "plt.xlabel('time')\n",
        "plt.ylabel('Power usage')"
      ],
      "execution_count": 14,
      "outputs": [
        {
          "output_type": "execute_result",
          "data": {
            "text/plain": [
              "Text(0, 0.5, 'Power usage')"
            ]
          },
          "metadata": {
            "tags": []
          },
          "execution_count": 14
        },
        {
          "output_type": "display_data",
          "data": {
            "image/png": "[encoded data removed]",
            "text/plain": [
              "<Figure size 864x576 with 1 Axes>"
            ]
          },
          "metadata": {
            "tags": [],
            "needs_background": "light"
          }
        }
      ]
    },
    {
      "cell_type": "markdown",
      "metadata": {
        "id": "gXiMI0reRJuB"
      },
      "source": [
        "**QUESTION 12**"
      ]
    },
    {
      "cell_type": "code",
      "metadata": {
        "id": "Ft7ebmgceEA_",
        "outputId": "2974cc67-7f85-4cc5-a4ca-c2e5f8dedab7",
        "colab": {
          "base_uri": "https://localhost:8080/",
          "height": 33
        }
      },
      "source": [
        "from scipy.stats import pearsonr\n",
        "corr, _ = pearsonr(df_daily.Global_active_power, df_daily.Global_reactive_power)\n",
        "corr"
      ],
      "execution_count": 15,
      "outputs": [
        {
          "output_type": "execute_result",
          "data": {
            "text/plain": [
              "0.04109783735996872"
            ]
          },
          "metadata": {
            "tags": []
          },
          "execution_count": 15
        }
      ]
    },
    {
      "cell_type": "markdown",
      "metadata": {
        "id": "-xQ4h2q4TBbo"
      },
      "source": [
        "**QUESTION 13**"
      ]
    },
    {
      "cell_type": "code",
      "metadata": {
        "id": "nGNcF4AyQcgB",
        "outputId": "10c8cea7-24ed-436a-de61-56b677499623",
        "colab": {
          "base_uri": "https://localhost:8080/",
          "height": 33
        }
      },
      "source": [
        "from scipy.stats import pearsonr\n",
        "corr, _ = pearsonr(df_daily.Voltage, df_daily.Global_intensity)\n",
        "corr"
      ],
      "execution_count": 16,
      "outputs": [
        {
          "output_type": "execute_result",
          "data": {
            "text/plain": [
              "0.052267003605872574"
            ]
          },
          "metadata": {
            "tags": []
          },
          "execution_count": 16
        }
      ]
    },
    {
      "cell_type": "markdown",
      "metadata": {
        "id": "u1X2MgkNTFcc"
      },
      "source": [
        "**QUESTION 14**"
      ]
    },
    {
      "cell_type": "code",
      "metadata": {
        "id": "ryZ9WhH6R_ZU",
        "outputId": "53f6f25a-4281-44ce-d020-8d0e774027b8",
        "colab": {
          "base_uri": "https://localhost:8080/",
          "height": 33
        }
      },
      "source": [
        "df_daily.shape"
      ],
      "execution_count": 17,
      "outputs": [
        {
          "output_type": "execute_result",
          "data": {
            "text/plain": [
              "(1442, 7)"
            ]
          },
          "metadata": {
            "tags": []
          },
          "execution_count": 17
        }
      ]
    },
    {
      "cell_type": "code",
      "metadata": {
        "id": "wSvbPTPOSxMd"
      },
      "source": [
        "from fbprophet import Prophet\n",
        "df_daily = df_daily.reset_index()"
      ],
      "execution_count": 21,
      "outputs": []
    },
    {
      "cell_type": "code",
      "metadata": {
        "id": "KWgP-U50SzMv",
        "outputId": "30f30b13-002d-4f8d-be10-9aa88161eb3e",
        "colab": {
          "base_uri": "https://localhost:8080/",
          "height": 391
        }
      },
      "source": [
        "df_daily = df_daily.rename(columns = {'date_time' : 'ds', 'Global_active_power' : 'y'})\n",
        "df_daily"
      ],
      "execution_count": 22,
      "outputs": [
        {
          "output_type": "execute_result",
          "data": {
            "text/html": [
              "<div>\n",
              "<style scoped>\n",
              "    .dataframe tbody tr th:only-of-type {\n",
              "        vertical-align: middle;\n",
              "    }\n",
              "\n",
              "    .dataframe tbody tr th {\n",
              "        vertical-align: top;\n",
              "    }\n",
              "\n",
              "    .dataframe thead th {\n",
              "        text-align: right;\n",
              "    }\n",
              "</style>\n",
              "<table border=\"1\" class=\"dataframe\">\n",
              "  <thead>\n",
              "    <tr style=\"text-align: right;\">\n",
              "      <th></th>\n",
              "      <th>ds</th>\n",
              "      <th>y</th>\n",
              "      <th>Global_reactive_power</th>\n",
              "      <th>Voltage</th>\n",
              "      <th>Global_intensity</th>\n",
              "      <th>Sub_metering_1</th>\n",
              "      <th>Sub_metering_2</th>\n",
              "      <th>Sub_metering_3</th>\n",
              "    </tr>\n",
              "  </thead>\n",
              "  <tbody>\n",
              "    <tr>\n",
              "      <th>0</th>\n",
              "      <td>2006-12-16</td>\n",
              "      <td>1209.176</td>\n",
              "      <td>34.922</td>\n",
              "      <td>93552.53</td>\n",
              "      <td>5180.8</td>\n",
              "      <td>0.0</td>\n",
              "      <td>546.0</td>\n",
              "      <td>4926.0</td>\n",
              "    </tr>\n",
              "    <tr>\n",
              "      <th>1</th>\n",
              "      <td>2006-12-17</td>\n",
              "      <td>3390.460</td>\n",
              "      <td>226.006</td>\n",
              "      <td>345725.32</td>\n",
              "      <td>14398.6</td>\n",
              "      <td>2033.0</td>\n",
              "      <td>4187.0</td>\n",
              "      <td>13341.0</td>\n",
              "    </tr>\n",
              "    <tr>\n",
              "      <th>2</th>\n",
              "      <td>2006-12-18</td>\n",
              "      <td>2203.826</td>\n",
              "      <td>161.792</td>\n",
              "      <td>347373.64</td>\n",
              "      <td>9247.2</td>\n",
              "      <td>1063.0</td>\n",
              "      <td>2621.0</td>\n",
              "      <td>14018.0</td>\n",
              "    </tr>\n",
              "    <tr>\n",
              "      <th>3</th>\n",
              "      <td>2006-12-19</td>\n",
              "      <td>1666.194</td>\n",
              "      <td>150.942</td>\n",
              "      <td>348479.01</td>\n",
              "      <td>7094.0</td>\n",
              "      <td>839.0</td>\n",
              "      <td>7602.0</td>\n",
              "      <td>6197.0</td>\n",
              "    </tr>\n",
              "    <tr>\n",
              "      <th>4</th>\n",
              "      <td>2006-12-20</td>\n",
              "      <td>2225.748</td>\n",
              "      <td>160.998</td>\n",
              "      <td>348923.61</td>\n",
              "      <td>9313.0</td>\n",
              "      <td>0.0</td>\n",
              "      <td>2648.0</td>\n",
              "      <td>14063.0</td>\n",
              "    </tr>\n",
              "    <tr>\n",
              "      <th>...</th>\n",
              "      <td>...</td>\n",
              "      <td>...</td>\n",
              "      <td>...</td>\n",
              "      <td>...</td>\n",
              "      <td>...</td>\n",
              "      <td>...</td>\n",
              "      <td>...</td>\n",
              "      <td>...</td>\n",
              "    </tr>\n",
              "    <tr>\n",
              "      <th>1437</th>\n",
              "      <td>2010-11-22</td>\n",
              "      <td>2041.536</td>\n",
              "      <td>142.354</td>\n",
              "      <td>345883.85</td>\n",
              "      <td>8660.4</td>\n",
              "      <td>4855.0</td>\n",
              "      <td>2110.0</td>\n",
              "      <td>10136.0</td>\n",
              "    </tr>\n",
              "    <tr>\n",
              "      <th>1438</th>\n",
              "      <td>2010-11-23</td>\n",
              "      <td>1577.536</td>\n",
              "      <td>137.450</td>\n",
              "      <td>346428.76</td>\n",
              "      <td>6731.2</td>\n",
              "      <td>1871.0</td>\n",
              "      <td>458.0</td>\n",
              "      <td>7611.0</td>\n",
              "    </tr>\n",
              "    <tr>\n",
              "      <th>1439</th>\n",
              "      <td>2010-11-24</td>\n",
              "      <td>1796.248</td>\n",
              "      <td>132.460</td>\n",
              "      <td>345644.59</td>\n",
              "      <td>7559.4</td>\n",
              "      <td>1096.0</td>\n",
              "      <td>2848.0</td>\n",
              "      <td>12224.0</td>\n",
              "    </tr>\n",
              "    <tr>\n",
              "      <th>1440</th>\n",
              "      <td>2010-11-25</td>\n",
              "      <td>1431.164</td>\n",
              "      <td>116.128</td>\n",
              "      <td>347812.21</td>\n",
              "      <td>6004.0</td>\n",
              "      <td>1076.0</td>\n",
              "      <td>426.0</td>\n",
              "      <td>5072.0</td>\n",
              "    </tr>\n",
              "    <tr>\n",
              "      <th>1441</th>\n",
              "      <td>2010-11-26</td>\n",
              "      <td>1488.104</td>\n",
              "      <td>120.826</td>\n",
              "      <td>303487.57</td>\n",
              "      <td>6259.8</td>\n",
              "      <td>1080.0</td>\n",
              "      <td>385.0</td>\n",
              "      <td>9989.0</td>\n",
              "    </tr>\n",
              "  </tbody>\n",
              "</table>\n",
              "<p>1442 rows × 8 columns</p>\n",
              "</div>"
            ],
            "text/plain": [
              "             ds         y  ...  Sub_metering_2  Sub_metering_3\n",
              "0    2006-12-16  1209.176  ...           546.0          4926.0\n",
              "1    2006-12-17  3390.460  ...          4187.0         13341.0\n",
              "2    2006-12-18  2203.826  ...          2621.0         14018.0\n",
              "3    2006-12-19  1666.194  ...          7602.0          6197.0\n",
              "4    2006-12-20  2225.748  ...          2648.0         14063.0\n",
              "...         ...       ...  ...             ...             ...\n",
              "1437 2010-11-22  2041.536  ...          2110.0         10136.0\n",
              "1438 2010-11-23  1577.536  ...           458.0          7611.0\n",
              "1439 2010-11-24  1796.248  ...          2848.0         12224.0\n",
              "1440 2010-11-25  1431.164  ...           426.0          5072.0\n",
              "1441 2010-11-26  1488.104  ...           385.0          9989.0\n",
              "\n",
              "[1442 rows x 8 columns]"
            ]
          },
          "metadata": {
            "tags": []
          },
          "execution_count": 22
        }
      ]
    },
    {
      "cell_type": "code",
      "metadata": {
        "id": "cTtRUf9LSDs7",
        "outputId": "8ab0ce3a-46fb-42a7-850e-2c64542a8926",
        "colab": {
          "base_uri": "https://localhost:8080/",
          "height": 33
        }
      },
      "source": [
        "train, test = df_daily[0:(df_daily.shape[0]-365)], df_daily[(df_daily.shape[0]-365):]\n",
        "test.shape"
      ],
      "execution_count": 53,
      "outputs": [
        {
          "output_type": "execute_result",
          "data": {
            "text/plain": [
              "(365, 8)"
            ]
          },
          "metadata": {
            "tags": []
          },
          "execution_count": 53
        }
      ]
    },
    {
      "cell_type": "code",
      "metadata": {
        "id": "xOj8A4neS_iF",
        "outputId": "22eef76f-6c55-4498-cf97-77c75d44fad6",
        "colab": {
          "base_uri": "https://localhost:8080/",
          "height": 391
        }
      },
      "source": [
        "train.iloc[:,:2]"
      ],
      "execution_count": 28,
      "outputs": [
        {
          "output_type": "execute_result",
          "data": {
            "text/html": [
              "<div>\n",
              "<style scoped>\n",
              "    .dataframe tbody tr th:only-of-type {\n",
              "        vertical-align: middle;\n",
              "    }\n",
              "\n",
              "    .dataframe tbody tr th {\n",
              "        vertical-align: top;\n",
              "    }\n",
              "\n",
              "    .dataframe thead th {\n",
              "        text-align: right;\n",
              "    }\n",
              "</style>\n",
              "<table border=\"1\" class=\"dataframe\">\n",
              "  <thead>\n",
              "    <tr style=\"text-align: right;\">\n",
              "      <th></th>\n",
              "      <th>ds</th>\n",
              "      <th>y</th>\n",
              "    </tr>\n",
              "  </thead>\n",
              "  <tbody>\n",
              "    <tr>\n",
              "      <th>0</th>\n",
              "      <td>2006-12-16</td>\n",
              "      <td>1209.176</td>\n",
              "    </tr>\n",
              "    <tr>\n",
              "      <th>1</th>\n",
              "      <td>2006-12-17</td>\n",
              "      <td>3390.460</td>\n",
              "    </tr>\n",
              "    <tr>\n",
              "      <th>2</th>\n",
              "      <td>2006-12-18</td>\n",
              "      <td>2203.826</td>\n",
              "    </tr>\n",
              "    <tr>\n",
              "      <th>3</th>\n",
              "      <td>2006-12-19</td>\n",
              "      <td>1666.194</td>\n",
              "    </tr>\n",
              "    <tr>\n",
              "      <th>4</th>\n",
              "      <td>2006-12-20</td>\n",
              "      <td>2225.748</td>\n",
              "    </tr>\n",
              "    <tr>\n",
              "      <th>...</th>\n",
              "      <td>...</td>\n",
              "      <td>...</td>\n",
              "    </tr>\n",
              "    <tr>\n",
              "      <th>1072</th>\n",
              "      <td>2009-11-22</td>\n",
              "      <td>2450.976</td>\n",
              "    </tr>\n",
              "    <tr>\n",
              "      <th>1073</th>\n",
              "      <td>2009-11-23</td>\n",
              "      <td>1471.122</td>\n",
              "    </tr>\n",
              "    <tr>\n",
              "      <th>1074</th>\n",
              "      <td>2009-11-24</td>\n",
              "      <td>2128.856</td>\n",
              "    </tr>\n",
              "    <tr>\n",
              "      <th>1075</th>\n",
              "      <td>2009-11-25</td>\n",
              "      <td>1980.130</td>\n",
              "    </tr>\n",
              "    <tr>\n",
              "      <th>1076</th>\n",
              "      <td>2009-11-26</td>\n",
              "      <td>1599.626</td>\n",
              "    </tr>\n",
              "  </tbody>\n",
              "</table>\n",
              "<p>1077 rows × 2 columns</p>\n",
              "</div>"
            ],
            "text/plain": [
              "             ds         y\n",
              "0    2006-12-16  1209.176\n",
              "1    2006-12-17  3390.460\n",
              "2    2006-12-18  2203.826\n",
              "3    2006-12-19  1666.194\n",
              "4    2006-12-20  2225.748\n",
              "...         ...       ...\n",
              "1072 2009-11-22  2450.976\n",
              "1073 2009-11-23  1471.122\n",
              "1074 2009-11-24  2128.856\n",
              "1075 2009-11-25  1980.130\n",
              "1076 2009-11-26  1599.626\n",
              "\n",
              "[1077 rows x 2 columns]"
            ]
          },
          "metadata": {
            "tags": []
          },
          "execution_count": 28
        }
      ]
    },
    {
      "cell_type": "code",
      "metadata": {
        "id": "Ql4IwU0XS5yX",
        "outputId": "227a03f3-f7de-4af1-eef2-78a3a8bec605",
        "colab": {
          "base_uri": "https://localhost:8080/",
          "height": 50
        }
      },
      "source": [
        "model = Prophet()\n",
        "model.fit(train.iloc[:,:2])"
      ],
      "execution_count": 29,
      "outputs": [
        {
          "output_type": "stream",
          "text": [
            "INFO:fbprophet:Disabling daily seasonality. Run prophet with daily_seasonality=True to override this.\n"
          ],
          "name": "stderr"
        },
        {
          "output_type": "execute_result",
          "data": {
            "text/plain": [
              "<fbprophet.forecaster.Prophet at 0x7f2535e5cd68>"
            ]
          },
          "metadata": {
            "tags": []
          },
          "execution_count": 29
        }
      ]
    },
    {
      "cell_type": "code",
      "metadata": {
        "id": "waC9CvoUURLg",
        "outputId": "40c415b1-7c47-440a-db38-37ce44263e65",
        "colab": {
          "base_uri": "https://localhost:8080/",
          "height": 292
        }
      },
      "source": [
        "future = model.make_future_dataframe(periods= 365 , freq= 'D' )\n",
        "forecast = model.predict(future)\n",
        "forecast.head()"
      ],
      "execution_count": 30,
      "outputs": [
        {
          "output_type": "execute_result",
          "data": {
            "text/html": [
              "<div>\n",
              "<style scoped>\n",
              "    .dataframe tbody tr th:only-of-type {\n",
              "        vertical-align: middle;\n",
              "    }\n",
              "\n",
              "    .dataframe tbody tr th {\n",
              "        vertical-align: top;\n",
              "    }\n",
              "\n",
              "    .dataframe thead th {\n",
              "        text-align: right;\n",
              "    }\n",
              "</style>\n",
              "<table border=\"1\" class=\"dataframe\">\n",
              "  <thead>\n",
              "    <tr style=\"text-align: right;\">\n",
              "      <th></th>\n",
              "      <th>ds</th>\n",
              "      <th>trend</th>\n",
              "      <th>yhat_lower</th>\n",
              "      <th>yhat_upper</th>\n",
              "      <th>trend_lower</th>\n",
              "      <th>trend_upper</th>\n",
              "      <th>additive_terms</th>\n",
              "      <th>additive_terms_lower</th>\n",
              "      <th>additive_terms_upper</th>\n",
              "      <th>weekly</th>\n",
              "      <th>weekly_lower</th>\n",
              "      <th>weekly_upper</th>\n",
              "      <th>yearly</th>\n",
              "      <th>yearly_lower</th>\n",
              "      <th>yearly_upper</th>\n",
              "      <th>multiplicative_terms</th>\n",
              "      <th>multiplicative_terms_lower</th>\n",
              "      <th>multiplicative_terms_upper</th>\n",
              "      <th>yhat</th>\n",
              "    </tr>\n",
              "  </thead>\n",
              "  <tbody>\n",
              "    <tr>\n",
              "      <th>0</th>\n",
              "      <td>2006-12-16</td>\n",
              "      <td>1651.870476</td>\n",
              "      <td>1841.158045</td>\n",
              "      <td>2984.213925</td>\n",
              "      <td>1651.870476</td>\n",
              "      <td>1651.870476</td>\n",
              "      <td>775.803954</td>\n",
              "      <td>775.803954</td>\n",
              "      <td>775.803954</td>\n",
              "      <td>245.727868</td>\n",
              "      <td>245.727868</td>\n",
              "      <td>245.727868</td>\n",
              "      <td>530.076086</td>\n",
              "      <td>530.076086</td>\n",
              "      <td>530.076086</td>\n",
              "      <td>0.0</td>\n",
              "      <td>0.0</td>\n",
              "      <td>0.0</td>\n",
              "      <td>2427.674430</td>\n",
              "    </tr>\n",
              "    <tr>\n",
              "      <th>1</th>\n",
              "      <td>2006-12-17</td>\n",
              "      <td>1651.695654</td>\n",
              "      <td>1847.216994</td>\n",
              "      <td>2985.521773</td>\n",
              "      <td>1651.695654</td>\n",
              "      <td>1651.695654</td>\n",
              "      <td>772.611682</td>\n",
              "      <td>772.611682</td>\n",
              "      <td>772.611682</td>\n",
              "      <td>228.437514</td>\n",
              "      <td>228.437514</td>\n",
              "      <td>228.437514</td>\n",
              "      <td>544.174167</td>\n",
              "      <td>544.174167</td>\n",
              "      <td>544.174167</td>\n",
              "      <td>0.0</td>\n",
              "      <td>0.0</td>\n",
              "      <td>0.0</td>\n",
              "      <td>2424.307336</td>\n",
              "    </tr>\n",
              "    <tr>\n",
              "      <th>2</th>\n",
              "      <td>2006-12-18</td>\n",
              "      <td>1651.520833</td>\n",
              "      <td>1533.468043</td>\n",
              "      <td>2549.032076</td>\n",
              "      <td>1651.520833</td>\n",
              "      <td>1651.520833</td>\n",
              "      <td>397.879289</td>\n",
              "      <td>397.879289</td>\n",
              "      <td>397.879289</td>\n",
              "      <td>-161.218418</td>\n",
              "      <td>-161.218418</td>\n",
              "      <td>-161.218418</td>\n",
              "      <td>559.097707</td>\n",
              "      <td>559.097707</td>\n",
              "      <td>559.097707</td>\n",
              "      <td>0.0</td>\n",
              "      <td>0.0</td>\n",
              "      <td>0.0</td>\n",
              "      <td>2049.400122</td>\n",
              "    </tr>\n",
              "    <tr>\n",
              "      <th>3</th>\n",
              "      <td>2006-12-19</td>\n",
              "      <td>1651.346012</td>\n",
              "      <td>1621.813397</td>\n",
              "      <td>2742.409985</td>\n",
              "      <td>1651.346012</td>\n",
              "      <td>1651.346012</td>\n",
              "      <td>545.082036</td>\n",
              "      <td>545.082036</td>\n",
              "      <td>545.082036</td>\n",
              "      <td>-29.322660</td>\n",
              "      <td>-29.322660</td>\n",
              "      <td>-29.322660</td>\n",
              "      <td>574.404696</td>\n",
              "      <td>574.404696</td>\n",
              "      <td>574.404696</td>\n",
              "      <td>0.0</td>\n",
              "      <td>0.0</td>\n",
              "      <td>0.0</td>\n",
              "      <td>2196.428047</td>\n",
              "    </tr>\n",
              "    <tr>\n",
              "      <th>4</th>\n",
              "      <td>2006-12-20</td>\n",
              "      <td>1651.171190</td>\n",
              "      <td>1648.510201</td>\n",
              "      <td>2798.768663</td>\n",
              "      <td>1651.171190</td>\n",
              "      <td>1651.171190</td>\n",
              "      <td>564.928312</td>\n",
              "      <td>564.928312</td>\n",
              "      <td>564.928312</td>\n",
              "      <td>-24.708936</td>\n",
              "      <td>-24.708936</td>\n",
              "      <td>-24.708936</td>\n",
              "      <td>589.637248</td>\n",
              "      <td>589.637248</td>\n",
              "      <td>589.637248</td>\n",
              "      <td>0.0</td>\n",
              "      <td>0.0</td>\n",
              "      <td>0.0</td>\n",
              "      <td>2216.099502</td>\n",
              "    </tr>\n",
              "  </tbody>\n",
              "</table>\n",
              "</div>"
            ],
            "text/plain": [
              "          ds        trend  ...  multiplicative_terms_upper         yhat\n",
              "0 2006-12-16  1651.870476  ...                         0.0  2427.674430\n",
              "1 2006-12-17  1651.695654  ...                         0.0  2424.307336\n",
              "2 2006-12-18  1651.520833  ...                         0.0  2049.400122\n",
              "3 2006-12-19  1651.346012  ...                         0.0  2196.428047\n",
              "4 2006-12-20  1651.171190  ...                         0.0  2216.099502\n",
              "\n",
              "[5 rows x 19 columns]"
            ]
          },
          "metadata": {
            "tags": []
          },
          "execution_count": 30
        }
      ]
    },
    {
      "cell_type": "code",
      "metadata": {
        "id": "fNkoH8gHWWHw",
        "outputId": "2620f581-3f70-4b6b-8c4b-ab06efabb542",
        "colab": {
          "base_uri": "https://localhost:8080/",
          "height": 33
        }
      },
      "source": [
        "forecast.shape"
      ],
      "execution_count": 32,
      "outputs": [
        {
          "output_type": "execute_result",
          "data": {
            "text/plain": [
              "(1442, 19)"
            ]
          },
          "metadata": {
            "tags": []
          },
          "execution_count": 32
        }
      ]
    },
    {
      "cell_type": "code",
      "metadata": {
        "id": "LLSJsnQ7Vntv",
        "outputId": "03bb7641-d1d9-44a6-8490-7db4869801b6",
        "colab": {
          "base_uri": "https://localhost:8080/",
          "height": 33
        }
      },
      "source": [
        "mape = round((np.sum((np.abs(test.y - forecast.yhat[(forecast.shape[0]-365):]))/ test.y)*100)/365, 2)\n",
        "mape"
      ],
      "execution_count": 36,
      "outputs": [
        {
          "output_type": "execute_result",
          "data": {
            "text/plain": [
              "20.9"
            ]
          },
          "metadata": {
            "tags": []
          },
          "execution_count": 36
        }
      ]
    },
    {
      "cell_type": "markdown",
      "metadata": {
        "id": "Z19gJSzfTHxk"
      },
      "source": [
        "**QUESTION 15**"
      ]
    },
    {
      "cell_type": "code",
      "metadata": {
        "id": "n-lfCOmZYK_8",
        "outputId": "a51b140d-c335-4369-844c-b3bec71b3ad8",
        "colab": {
          "base_uri": "https://localhost:8080/",
          "height": 33
        }
      },
      "source": [
        "rmse = round(np.sqrt(np.sum(np.square(test.y - forecast.yhat[(forecast.shape[0]-365):]))/365), 2)\n",
        "rmse"
      ],
      "execution_count": 40,
      "outputs": [
        {
          "output_type": "execute_result",
          "data": {
            "text/plain": [
              "375.04"
            ]
          },
          "metadata": {
            "tags": []
          },
          "execution_count": 40
        }
      ]
    },
    {
      "cell_type": "markdown",
      "metadata": {
        "id": "QbTMHQMITRVM"
      },
      "source": [
        "**QUESTION 16**"
      ]
    },
    {
      "cell_type": "code",
      "metadata": {
        "id": "cCBzeuetaS-T",
        "outputId": "491faa7d-a9be-4b4b-c96d-8996fb677235",
        "colab": {
          "base_uri": "https://localhost:8080/",
          "height": 420
        }
      },
      "source": [
        "from fbprophet.plot import plot_yearly\n",
        "plot_yearly(model)"
      ],
      "execution_count": 63,
      "outputs": [
        {
          "output_type": "execute_result",
          "data": {
            "text/plain": [
              "[<matplotlib.lines.Line2D at 0x7f252fa558d0>,\n",
              " <matplotlib.collections.PolyCollection at 0x7f252fafebe0>]"
            ]
          },
          "metadata": {
            "tags": []
          },
          "execution_count": 63
        },
        {
          "output_type": "display_data",
          "data": {
            "image/png": "[encoded data removed]",
            "text/plain": [
              "<Figure size 720x432 with 1 Axes>"
            ]
          },
          "metadata": {
            "tags": []
          }
        }
      ]
    },
    {
      "cell_type": "markdown",
      "metadata": {
        "id": "A6mTu8T0TUoX"
      },
      "source": [
        "**QUESTION 17**"
      ]
    },
    {
      "cell_type": "code",
      "metadata": {
        "id": "5ovKMWmBfkY3",
        "outputId": "53bfe5d2-665b-4419-da69-60bb944eb24d",
        "colab": {
          "base_uri": "https://localhost:8080/",
          "height": 391
        }
      },
      "source": [
        "df_daily = df_daily.rename(columns = {'Global_reactive_power' : 'add1', 'Voltage' : 'add2', 'Global_intensity' : 'add3', 'Sub_metering_1':'add4', 'Sub_metering_2' :'add5', 'Sub_metering_3': 'add6'})\n",
        "df_daily"
      ],
      "execution_count": 52,
      "outputs": [
        {
          "output_type": "execute_result",
          "data": {
            "text/html": [
              "<div>\n",
              "<style scoped>\n",
              "    .dataframe tbody tr th:only-of-type {\n",
              "        vertical-align: middle;\n",
              "    }\n",
              "\n",
              "    .dataframe tbody tr th {\n",
              "        vertical-align: top;\n",
              "    }\n",
              "\n",
              "    .dataframe thead th {\n",
              "        text-align: right;\n",
              "    }\n",
              "</style>\n",
              "<table border=\"1\" class=\"dataframe\">\n",
              "  <thead>\n",
              "    <tr style=\"text-align: right;\">\n",
              "      <th></th>\n",
              "      <th>ds</th>\n",
              "      <th>y</th>\n",
              "      <th>add1</th>\n",
              "      <th>add2</th>\n",
              "      <th>add3</th>\n",
              "      <th>add4</th>\n",
              "      <th>add5</th>\n",
              "      <th>add6</th>\n",
              "    </tr>\n",
              "  </thead>\n",
              "  <tbody>\n",
              "    <tr>\n",
              "      <th>0</th>\n",
              "      <td>2006-12-16</td>\n",
              "      <td>1209.176</td>\n",
              "      <td>34.922</td>\n",
              "      <td>93552.53</td>\n",
              "      <td>5180.8</td>\n",
              "      <td>0.0</td>\n",
              "      <td>546.0</td>\n",
              "      <td>4926.0</td>\n",
              "    </tr>\n",
              "    <tr>\n",
              "      <th>1</th>\n",
              "      <td>2006-12-17</td>\n",
              "      <td>3390.460</td>\n",
              "      <td>226.006</td>\n",
              "      <td>345725.32</td>\n",
              "      <td>14398.6</td>\n",
              "      <td>2033.0</td>\n",
              "      <td>4187.0</td>\n",
              "      <td>13341.0</td>\n",
              "    </tr>\n",
              "    <tr>\n",
              "      <th>2</th>\n",
              "      <td>2006-12-18</td>\n",
              "      <td>2203.826</td>\n",
              "      <td>161.792</td>\n",
              "      <td>347373.64</td>\n",
              "      <td>9247.2</td>\n",
              "      <td>1063.0</td>\n",
              "      <td>2621.0</td>\n",
              "      <td>14018.0</td>\n",
              "    </tr>\n",
              "    <tr>\n",
              "      <th>3</th>\n",
              "      <td>2006-12-19</td>\n",
              "      <td>1666.194</td>\n",
              "      <td>150.942</td>\n",
              "      <td>348479.01</td>\n",
              "      <td>7094.0</td>\n",
              "      <td>839.0</td>\n",
              "      <td>7602.0</td>\n",
              "      <td>6197.0</td>\n",
              "    </tr>\n",
              "    <tr>\n",
              "      <th>4</th>\n",
              "      <td>2006-12-20</td>\n",
              "      <td>2225.748</td>\n",
              "      <td>160.998</td>\n",
              "      <td>348923.61</td>\n",
              "      <td>9313.0</td>\n",
              "      <td>0.0</td>\n",
              "      <td>2648.0</td>\n",
              "      <td>14063.0</td>\n",
              "    </tr>\n",
              "    <tr>\n",
              "      <th>...</th>\n",
              "      <td>...</td>\n",
              "      <td>...</td>\n",
              "      <td>...</td>\n",
              "      <td>...</td>\n",
              "      <td>...</td>\n",
              "      <td>...</td>\n",
              "      <td>...</td>\n",
              "      <td>...</td>\n",
              "    </tr>\n",
              "    <tr>\n",
              "      <th>1437</th>\n",
              "      <td>2010-11-22</td>\n",
              "      <td>2041.536</td>\n",
              "      <td>142.354</td>\n",
              "      <td>345883.85</td>\n",
              "      <td>8660.4</td>\n",
              "      <td>4855.0</td>\n",
              "      <td>2110.0</td>\n",
              "      <td>10136.0</td>\n",
              "    </tr>\n",
              "    <tr>\n",
              "      <th>1438</th>\n",
              "      <td>2010-11-23</td>\n",
              "      <td>1577.536</td>\n",
              "      <td>137.450</td>\n",
              "      <td>346428.76</td>\n",
              "      <td>6731.2</td>\n",
              "      <td>1871.0</td>\n",
              "      <td>458.0</td>\n",
              "      <td>7611.0</td>\n",
              "    </tr>\n",
              "    <tr>\n",
              "      <th>1439</th>\n",
              "      <td>2010-11-24</td>\n",
              "      <td>1796.248</td>\n",
              "      <td>132.460</td>\n",
              "      <td>345644.59</td>\n",
              "      <td>7559.4</td>\n",
              "      <td>1096.0</td>\n",
              "      <td>2848.0</td>\n",
              "      <td>12224.0</td>\n",
              "    </tr>\n",
              "    <tr>\n",
              "      <th>1440</th>\n",
              "      <td>2010-11-25</td>\n",
              "      <td>1431.164</td>\n",
              "      <td>116.128</td>\n",
              "      <td>347812.21</td>\n",
              "      <td>6004.0</td>\n",
              "      <td>1076.0</td>\n",
              "      <td>426.0</td>\n",
              "      <td>5072.0</td>\n",
              "    </tr>\n",
              "    <tr>\n",
              "      <th>1441</th>\n",
              "      <td>2010-11-26</td>\n",
              "      <td>1488.104</td>\n",
              "      <td>120.826</td>\n",
              "      <td>303487.57</td>\n",
              "      <td>6259.8</td>\n",
              "      <td>1080.0</td>\n",
              "      <td>385.0</td>\n",
              "      <td>9989.0</td>\n",
              "    </tr>\n",
              "  </tbody>\n",
              "</table>\n",
              "<p>1442 rows × 8 columns</p>\n",
              "</div>"
            ],
            "text/plain": [
              "             ds         y     add1       add2     add3    add4    add5     add6\n",
              "0    2006-12-16  1209.176   34.922   93552.53   5180.8     0.0   546.0   4926.0\n",
              "1    2006-12-17  3390.460  226.006  345725.32  14398.6  2033.0  4187.0  13341.0\n",
              "2    2006-12-18  2203.826  161.792  347373.64   9247.2  1063.0  2621.0  14018.0\n",
              "3    2006-12-19  1666.194  150.942  348479.01   7094.0   839.0  7602.0   6197.0\n",
              "4    2006-12-20  2225.748  160.998  348923.61   9313.0     0.0  2648.0  14063.0\n",
              "...         ...       ...      ...        ...      ...     ...     ...      ...\n",
              "1437 2010-11-22  2041.536  142.354  345883.85   8660.4  4855.0  2110.0  10136.0\n",
              "1438 2010-11-23  1577.536  137.450  346428.76   6731.2  1871.0   458.0   7611.0\n",
              "1439 2010-11-24  1796.248  132.460  345644.59   7559.4  1096.0  2848.0  12224.0\n",
              "1440 2010-11-25  1431.164  116.128  347812.21   6004.0  1076.0   426.0   5072.0\n",
              "1441 2010-11-26  1488.104  120.826  303487.57   6259.8  1080.0   385.0   9989.0\n",
              "\n",
              "[1442 rows x 8 columns]"
            ]
          },
          "metadata": {
            "tags": []
          },
          "execution_count": 52
        }
      ]
    },
    {
      "cell_type": "code",
      "metadata": {
        "id": "h0mOQFIHg5Z3",
        "outputId": "b4bc702d-3324-4ded-a9e2-2ebe740e0512",
        "colab": {
          "base_uri": "https://localhost:8080/",
          "height": 391
        }
      },
      "source": [
        "train, test = df_daily[0:(df_daily.shape[0]-365)], df_daily[(df_daily.shape[0]-365):]\n",
        "train"
      ],
      "execution_count": 70,
      "outputs": [
        {
          "output_type": "execute_result",
          "data": {
            "text/html": [
              "<div>\n",
              "<style scoped>\n",
              "    .dataframe tbody tr th:only-of-type {\n",
              "        vertical-align: middle;\n",
              "    }\n",
              "\n",
              "    .dataframe tbody tr th {\n",
              "        vertical-align: top;\n",
              "    }\n",
              "\n",
              "    .dataframe thead th {\n",
              "        text-align: right;\n",
              "    }\n",
              "</style>\n",
              "<table border=\"1\" class=\"dataframe\">\n",
              "  <thead>\n",
              "    <tr style=\"text-align: right;\">\n",
              "      <th></th>\n",
              "      <th>ds</th>\n",
              "      <th>y</th>\n",
              "      <th>add1</th>\n",
              "      <th>add2</th>\n",
              "      <th>add3</th>\n",
              "      <th>add4</th>\n",
              "      <th>add5</th>\n",
              "      <th>add6</th>\n",
              "    </tr>\n",
              "  </thead>\n",
              "  <tbody>\n",
              "    <tr>\n",
              "      <th>0</th>\n",
              "      <td>2006-12-16</td>\n",
              "      <td>1209.176</td>\n",
              "      <td>34.922</td>\n",
              "      <td>93552.53</td>\n",
              "      <td>5180.8</td>\n",
              "      <td>0.0</td>\n",
              "      <td>546.0</td>\n",
              "      <td>4926.0</td>\n",
              "    </tr>\n",
              "    <tr>\n",
              "      <th>1</th>\n",
              "      <td>2006-12-17</td>\n",
              "      <td>3390.460</td>\n",
              "      <td>226.006</td>\n",
              "      <td>345725.32</td>\n",
              "      <td>14398.6</td>\n",
              "      <td>2033.0</td>\n",
              "      <td>4187.0</td>\n",
              "      <td>13341.0</td>\n",
              "    </tr>\n",
              "    <tr>\n",
              "      <th>2</th>\n",
              "      <td>2006-12-18</td>\n",
              "      <td>2203.826</td>\n",
              "      <td>161.792</td>\n",
              "      <td>347373.64</td>\n",
              "      <td>9247.2</td>\n",
              "      <td>1063.0</td>\n",
              "      <td>2621.0</td>\n",
              "      <td>14018.0</td>\n",
              "    </tr>\n",
              "    <tr>\n",
              "      <th>3</th>\n",
              "      <td>2006-12-19</td>\n",
              "      <td>1666.194</td>\n",
              "      <td>150.942</td>\n",
              "      <td>348479.01</td>\n",
              "      <td>7094.0</td>\n",
              "      <td>839.0</td>\n",
              "      <td>7602.0</td>\n",
              "      <td>6197.0</td>\n",
              "    </tr>\n",
              "    <tr>\n",
              "      <th>4</th>\n",
              "      <td>2006-12-20</td>\n",
              "      <td>2225.748</td>\n",
              "      <td>160.998</td>\n",
              "      <td>348923.61</td>\n",
              "      <td>9313.0</td>\n",
              "      <td>0.0</td>\n",
              "      <td>2648.0</td>\n",
              "      <td>14063.0</td>\n",
              "    </tr>\n",
              "    <tr>\n",
              "      <th>...</th>\n",
              "      <td>...</td>\n",
              "      <td>...</td>\n",
              "      <td>...</td>\n",
              "      <td>...</td>\n",
              "      <td>...</td>\n",
              "      <td>...</td>\n",
              "      <td>...</td>\n",
              "      <td>...</td>\n",
              "    </tr>\n",
              "    <tr>\n",
              "      <th>1072</th>\n",
              "      <td>2009-11-22</td>\n",
              "      <td>2450.976</td>\n",
              "      <td>222.638</td>\n",
              "      <td>347151.89</td>\n",
              "      <td>10358.2</td>\n",
              "      <td>6774.0</td>\n",
              "      <td>411.0</td>\n",
              "      <td>16097.0</td>\n",
              "    </tr>\n",
              "    <tr>\n",
              "      <th>1073</th>\n",
              "      <td>2009-11-23</td>\n",
              "      <td>1471.122</td>\n",
              "      <td>148.338</td>\n",
              "      <td>349549.51</td>\n",
              "      <td>6100.8</td>\n",
              "      <td>0.0</td>\n",
              "      <td>402.0</td>\n",
              "      <td>8230.0</td>\n",
              "    </tr>\n",
              "    <tr>\n",
              "      <th>1074</th>\n",
              "      <td>2009-11-24</td>\n",
              "      <td>2128.856</td>\n",
              "      <td>153.820</td>\n",
              "      <td>348446.20</td>\n",
              "      <td>8899.0</td>\n",
              "      <td>2491.0</td>\n",
              "      <td>4579.0</td>\n",
              "      <td>9086.0</td>\n",
              "    </tr>\n",
              "    <tr>\n",
              "      <th>1075</th>\n",
              "      <td>2009-11-25</td>\n",
              "      <td>1980.130</td>\n",
              "      <td>175.476</td>\n",
              "      <td>347297.45</td>\n",
              "      <td>8309.2</td>\n",
              "      <td>745.0</td>\n",
              "      <td>5083.0</td>\n",
              "      <td>10596.0</td>\n",
              "    </tr>\n",
              "    <tr>\n",
              "      <th>1076</th>\n",
              "      <td>2009-11-26</td>\n",
              "      <td>1599.626</td>\n",
              "      <td>141.542</td>\n",
              "      <td>349406.59</td>\n",
              "      <td>6640.2</td>\n",
              "      <td>2262.0</td>\n",
              "      <td>407.0</td>\n",
              "      <td>10069.0</td>\n",
              "    </tr>\n",
              "  </tbody>\n",
              "</table>\n",
              "<p>1077 rows × 8 columns</p>\n",
              "</div>"
            ],
            "text/plain": [
              "             ds         y     add1       add2     add3    add4    add5     add6\n",
              "0    2006-12-16  1209.176   34.922   93552.53   5180.8     0.0   546.0   4926.0\n",
              "1    2006-12-17  3390.460  226.006  345725.32  14398.6  2033.0  4187.0  13341.0\n",
              "2    2006-12-18  2203.826  161.792  347373.64   9247.2  1063.0  2621.0  14018.0\n",
              "3    2006-12-19  1666.194  150.942  348479.01   7094.0   839.0  7602.0   6197.0\n",
              "4    2006-12-20  2225.748  160.998  348923.61   9313.0     0.0  2648.0  14063.0\n",
              "...         ...       ...      ...        ...      ...     ...     ...      ...\n",
              "1072 2009-11-22  2450.976  222.638  347151.89  10358.2  6774.0   411.0  16097.0\n",
              "1073 2009-11-23  1471.122  148.338  349549.51   6100.8     0.0   402.0   8230.0\n",
              "1074 2009-11-24  2128.856  153.820  348446.20   8899.0  2491.0  4579.0   9086.0\n",
              "1075 2009-11-25  1980.130  175.476  347297.45   8309.2   745.0  5083.0  10596.0\n",
              "1076 2009-11-26  1599.626  141.542  349406.59   6640.2  2262.0   407.0  10069.0\n",
              "\n",
              "[1077 rows x 8 columns]"
            ]
          },
          "metadata": {
            "tags": []
          },
          "execution_count": 70
        }
      ]
    },
    {
      "cell_type": "code",
      "metadata": {
        "id": "FBhUAkZOhC0U",
        "outputId": "f765076c-b7f8-49ac-dd57-3c7b4233a0e6",
        "colab": {
          "base_uri": "https://localhost:8080/",
          "height": 50
        }
      },
      "source": [
        "model = Prophet()\n",
        "model.add_regressor(('add1'))\n",
        "model.add_regressor('add2')\n",
        "model.add_regressor('add3')\n",
        "model.add_regressor('add4')\n",
        "model.add_regressor('add5')\n",
        "model.add_regressor('add6')\n",
        "\n",
        "model.fit(train)"
      ],
      "execution_count": 72,
      "outputs": [
        {
          "output_type": "stream",
          "text": [
            "INFO:fbprophet:Disabling daily seasonality. Run prophet with daily_seasonality=True to override this.\n"
          ],
          "name": "stderr"
        },
        {
          "output_type": "execute_result",
          "data": {
            "text/plain": [
              "<fbprophet.forecaster.Prophet at 0x7f252fc64588>"
            ]
          },
          "metadata": {
            "tags": []
          },
          "execution_count": 72
        }
      ]
    },
    {
      "cell_type": "code",
      "metadata": {
        "id": "2OWC7WUuhUjj"
      },
      "source": [
        "future = model.make_future_dataframe(periods= 365 , freq= 'D' )\n",
        "future['add1']= df_daily['add1']\n",
        "future['add2']= df_daily['add2']\n",
        "future['add3']= df_daily['add3']\n",
        "future['add4']= df_daily['add4']\n",
        "future['add5']= df_daily['add5']\n",
        "future['add6']= df_daily['add6']"
      ],
      "execution_count": 87,
      "outputs": []
    },
    {
      "cell_type": "code",
      "metadata": {
        "id": "ES1YkC5shfnl",
        "outputId": "bfd50416-6b51-48b6-9a15-09ee9247221f",
        "colab": {
          "base_uri": "https://localhost:8080/",
          "height": 292
        }
      },
      "source": [
        "forecast = model.predict(future)\n",
        "forecast.head()"
      ],
      "execution_count": 88,
      "outputs": [
        {
          "output_type": "execute_result",
          "data": {
            "text/html": [
              "<div>\n",
              "<style scoped>\n",
              "    .dataframe tbody tr th:only-of-type {\n",
              "        vertical-align: middle;\n",
              "    }\n",
              "\n",
              "    .dataframe tbody tr th {\n",
              "        vertical-align: top;\n",
              "    }\n",
              "\n",
              "    .dataframe thead th {\n",
              "        text-align: right;\n",
              "    }\n",
              "</style>\n",
              "<table border=\"1\" class=\"dataframe\">\n",
              "  <thead>\n",
              "    <tr style=\"text-align: right;\">\n",
              "      <th></th>\n",
              "      <th>ds</th>\n",
              "      <th>trend</th>\n",
              "      <th>yhat_lower</th>\n",
              "      <th>yhat_upper</th>\n",
              "      <th>trend_lower</th>\n",
              "      <th>trend_upper</th>\n",
              "      <th>add1</th>\n",
              "      <th>add1_lower</th>\n",
              "      <th>add1_upper</th>\n",
              "      <th>add2</th>\n",
              "      <th>add2_lower</th>\n",
              "      <th>add2_upper</th>\n",
              "      <th>add3</th>\n",
              "      <th>add3_lower</th>\n",
              "      <th>add3_upper</th>\n",
              "      <th>add4</th>\n",
              "      <th>add4_lower</th>\n",
              "      <th>add4_upper</th>\n",
              "      <th>add5</th>\n",
              "      <th>add5_lower</th>\n",
              "      <th>add5_upper</th>\n",
              "      <th>add6</th>\n",
              "      <th>add6_lower</th>\n",
              "      <th>add6_upper</th>\n",
              "      <th>additive_terms</th>\n",
              "      <th>additive_terms_lower</th>\n",
              "      <th>additive_terms_upper</th>\n",
              "      <th>extra_regressors_additive</th>\n",
              "      <th>extra_regressors_additive_lower</th>\n",
              "      <th>extra_regressors_additive_upper</th>\n",
              "      <th>weekly</th>\n",
              "      <th>weekly_lower</th>\n",
              "      <th>weekly_upper</th>\n",
              "      <th>yearly</th>\n",
              "      <th>yearly_lower</th>\n",
              "      <th>yearly_upper</th>\n",
              "      <th>multiplicative_terms</th>\n",
              "      <th>multiplicative_terms_lower</th>\n",
              "      <th>multiplicative_terms_upper</th>\n",
              "      <th>yhat</th>\n",
              "    </tr>\n",
              "  </thead>\n",
              "  <tbody>\n",
              "    <tr>\n",
              "      <th>0</th>\n",
              "      <td>2006-12-16</td>\n",
              "      <td>1566.208205</td>\n",
              "      <td>1159.324915</td>\n",
              "      <td>1191.341470</td>\n",
              "      <td>1566.208205</td>\n",
              "      <td>1566.208205</td>\n",
              "      <td>25.033001</td>\n",
              "      <td>25.033001</td>\n",
              "      <td>25.033001</td>\n",
              "      <td>-72.763302</td>\n",
              "      <td>-72.763302</td>\n",
              "      <td>-72.763302</td>\n",
              "      <td>-356.972861</td>\n",
              "      <td>-356.972861</td>\n",
              "      <td>-356.972861</td>\n",
              "      <td>2.196835</td>\n",
              "      <td>2.196835</td>\n",
              "      <td>2.196835</td>\n",
              "      <td>0.742868</td>\n",
              "      <td>0.742868</td>\n",
              "      <td>0.742868</td>\n",
              "      <td>-5.557483</td>\n",
              "      <td>-5.557483</td>\n",
              "      <td>-5.557483</td>\n",
              "      <td>-391.553789</td>\n",
              "      <td>-391.553789</td>\n",
              "      <td>-391.553789</td>\n",
              "      <td>-407.320943</td>\n",
              "      <td>-407.320943</td>\n",
              "      <td>-407.320943</td>\n",
              "      <td>1.408596</td>\n",
              "      <td>1.408596</td>\n",
              "      <td>1.408596</td>\n",
              "      <td>14.358558</td>\n",
              "      <td>14.358558</td>\n",
              "      <td>14.358558</td>\n",
              "      <td>0.0</td>\n",
              "      <td>0.0</td>\n",
              "      <td>0.0</td>\n",
              "      <td>1174.654416</td>\n",
              "    </tr>\n",
              "    <tr>\n",
              "      <th>1</th>\n",
              "      <td>2006-12-17</td>\n",
              "      <td>1566.143627</td>\n",
              "      <td>3400.181560</td>\n",
              "      <td>3431.485177</td>\n",
              "      <td>1566.143627</td>\n",
              "      <td>1566.143627</td>\n",
              "      <td>-9.027243</td>\n",
              "      <td>-9.027243</td>\n",
              "      <td>-9.027243</td>\n",
              "      <td>-0.120897</td>\n",
              "      <td>-0.120897</td>\n",
              "      <td>-0.120897</td>\n",
              "      <td>1839.073287</td>\n",
              "      <td>1839.073287</td>\n",
              "      <td>1839.073287</td>\n",
              "      <td>-0.484864</td>\n",
              "      <td>-0.484864</td>\n",
              "      <td>-0.484864</td>\n",
              "      <td>-1.170809</td>\n",
              "      <td>-1.170809</td>\n",
              "      <td>-1.170809</td>\n",
              "      <td>6.319667</td>\n",
              "      <td>6.319667</td>\n",
              "      <td>6.319667</td>\n",
              "      <td>1849.806679</td>\n",
              "      <td>1849.806679</td>\n",
              "      <td>1849.806679</td>\n",
              "      <td>1834.589141</td>\n",
              "      <td>1834.589141</td>\n",
              "      <td>1834.589141</td>\n",
              "      <td>0.164156</td>\n",
              "      <td>0.164156</td>\n",
              "      <td>0.164156</td>\n",
              "      <td>15.053382</td>\n",
              "      <td>15.053382</td>\n",
              "      <td>15.053382</td>\n",
              "      <td>0.0</td>\n",
              "      <td>0.0</td>\n",
              "      <td>0.0</td>\n",
              "      <td>3415.950306</td>\n",
              "    </tr>\n",
              "    <tr>\n",
              "      <th>2</th>\n",
              "      <td>2006-12-18</td>\n",
              "      <td>1566.079050</td>\n",
              "      <td>2189.084916</td>\n",
              "      <td>2220.285662</td>\n",
              "      <td>1566.079050</td>\n",
              "      <td>1566.079050</td>\n",
              "      <td>2.418741</td>\n",
              "      <td>2.418741</td>\n",
              "      <td>2.418741</td>\n",
              "      <td>0.353928</td>\n",
              "      <td>0.353928</td>\n",
              "      <td>0.353928</td>\n",
              "      <td>611.805162</td>\n",
              "      <td>611.805162</td>\n",
              "      <td>611.805162</td>\n",
              "      <td>0.794648</td>\n",
              "      <td>0.794648</td>\n",
              "      <td>0.794648</td>\n",
              "      <td>-0.347734</td>\n",
              "      <td>-0.347734</td>\n",
              "      <td>-0.347734</td>\n",
              "      <td>7.275203</td>\n",
              "      <td>7.275203</td>\n",
              "      <td>7.275203</td>\n",
              "      <td>637.648383</td>\n",
              "      <td>637.648383</td>\n",
              "      <td>637.648383</td>\n",
              "      <td>622.299948</td>\n",
              "      <td>622.299948</td>\n",
              "      <td>622.299948</td>\n",
              "      <td>-0.338153</td>\n",
              "      <td>-0.338153</td>\n",
              "      <td>-0.338153</td>\n",
              "      <td>15.686588</td>\n",
              "      <td>15.686588</td>\n",
              "      <td>15.686588</td>\n",
              "      <td>0.0</td>\n",
              "      <td>0.0</td>\n",
              "      <td>0.0</td>\n",
              "      <td>2203.727433</td>\n",
              "    </tr>\n",
              "    <tr>\n",
              "      <th>3</th>\n",
              "      <td>2006-12-19</td>\n",
              "      <td>1566.014473</td>\n",
              "      <td>1663.653843</td>\n",
              "      <td>1695.386633</td>\n",
              "      <td>1566.014473</td>\n",
              "      <td>1566.014473</td>\n",
              "      <td>4.352727</td>\n",
              "      <td>4.352727</td>\n",
              "      <td>4.352727</td>\n",
              "      <td>0.672347</td>\n",
              "      <td>0.672347</td>\n",
              "      <td>0.672347</td>\n",
              "      <td>98.827383</td>\n",
              "      <td>98.827383</td>\n",
              "      <td>98.827383</td>\n",
              "      <td>1.090123</td>\n",
              "      <td>1.090123</td>\n",
              "      <td>1.090123</td>\n",
              "      <td>-2.965703</td>\n",
              "      <td>-2.965703</td>\n",
              "      <td>-2.965703</td>\n",
              "      <td>-3.763561</td>\n",
              "      <td>-3.763561</td>\n",
              "      <td>-3.763561</td>\n",
              "      <td>112.790843</td>\n",
              "      <td>112.790843</td>\n",
              "      <td>112.790843</td>\n",
              "      <td>98.213317</td>\n",
              "      <td>98.213317</td>\n",
              "      <td>98.213317</td>\n",
              "      <td>-1.669783</td>\n",
              "      <td>-1.669783</td>\n",
              "      <td>-1.669783</td>\n",
              "      <td>16.247309</td>\n",
              "      <td>16.247309</td>\n",
              "      <td>16.247309</td>\n",
              "      <td>0.0</td>\n",
              "      <td>0.0</td>\n",
              "      <td>0.0</td>\n",
              "      <td>1678.805316</td>\n",
              "    </tr>\n",
              "    <tr>\n",
              "      <th>4</th>\n",
              "      <td>2006-12-20</td>\n",
              "      <td>1565.949895</td>\n",
              "      <td>2207.579344</td>\n",
              "      <td>2241.041631</td>\n",
              "      <td>1565.949895</td>\n",
              "      <td>1565.949895</td>\n",
              "      <td>2.560270</td>\n",
              "      <td>2.560270</td>\n",
              "      <td>2.560270</td>\n",
              "      <td>0.800421</td>\n",
              "      <td>0.800421</td>\n",
              "      <td>0.800421</td>\n",
              "      <td>627.481336</td>\n",
              "      <td>627.481336</td>\n",
              "      <td>627.481336</td>\n",
              "      <td>2.196835</td>\n",
              "      <td>2.196835</td>\n",
              "      <td>2.196835</td>\n",
              "      <td>-0.361925</td>\n",
              "      <td>-0.361925</td>\n",
              "      <td>-0.361925</td>\n",
              "      <td>7.338717</td>\n",
              "      <td>7.338717</td>\n",
              "      <td>7.338717</td>\n",
              "      <td>657.843016</td>\n",
              "      <td>657.843016</td>\n",
              "      <td>657.843016</td>\n",
              "      <td>640.015654</td>\n",
              "      <td>640.015654</td>\n",
              "      <td>640.015654</td>\n",
              "      <td>1.101892</td>\n",
              "      <td>1.101892</td>\n",
              "      <td>1.101892</td>\n",
              "      <td>16.725469</td>\n",
              "      <td>16.725469</td>\n",
              "      <td>16.725469</td>\n",
              "      <td>0.0</td>\n",
              "      <td>0.0</td>\n",
              "      <td>0.0</td>\n",
              "      <td>2223.792911</td>\n",
              "    </tr>\n",
              "  </tbody>\n",
              "</table>\n",
              "</div>"
            ],
            "text/plain": [
              "          ds        trend  ...  multiplicative_terms_upper         yhat\n",
              "0 2006-12-16  1566.208205  ...                         0.0  1174.654416\n",
              "1 2006-12-17  1566.143627  ...                         0.0  3415.950306\n",
              "2 2006-12-18  1566.079050  ...                         0.0  2203.727433\n",
              "3 2006-12-19  1566.014473  ...                         0.0  1678.805316\n",
              "4 2006-12-20  1565.949895  ...                         0.0  2223.792911\n",
              "\n",
              "[5 rows x 40 columns]"
            ]
          },
          "metadata": {
            "tags": []
          },
          "execution_count": 88
        }
      ]
    },
    {
      "cell_type": "code",
      "metadata": {
        "id": "bm1TYsoBhfev",
        "outputId": "e093ed8e-0557-447f-8fef-ab20f0ca8765",
        "colab": {
          "base_uri": "https://localhost:8080/",
          "height": 33
        }
      },
      "source": [
        "mape = round((np.sum((np.abs(test.y - forecast.yhat[(forecast.shape[0]-365):]))/ test.y)*100)/365, 2)\n",
        "mape"
      ],
      "execution_count": 89,
      "outputs": [
        {
          "output_type": "execute_result",
          "data": {
            "text/plain": [
              "2.83"
            ]
          },
          "metadata": {
            "tags": []
          },
          "execution_count": 89
        }
      ]
    },
    {
      "cell_type": "markdown",
      "metadata": {
        "id": "Tc0br9DiTfIC"
      },
      "source": [
        "**QUESTION 18**"
      ]
    },
    {
      "cell_type": "code",
      "metadata": {
        "id": "aXWJuOz_Tpck",
        "outputId": "30723b80-e83e-425d-d872-226f3779e376",
        "colab": {
          "base_uri": "https://localhost:8080/",
          "height": 33
        }
      },
      "source": [
        "rmse = round(np.sqrt(np.sum(np.square(test.y - forecast.yhat[(forecast.shape[0]-365):]))/365), 2)\n",
        "rmse"
      ],
      "execution_count": 90,
      "outputs": [
        {
          "output_type": "execute_result",
          "data": {
            "text/plain": [
              "41.93"
            ]
          },
          "metadata": {
            "tags": []
          },
          "execution_count": 90
        }
      ]
    },
    {
      "cell_type": "markdown",
      "metadata": {
        "id": "2PAm6uZWTiKC"
      },
      "source": [
        "**QUESTION 19**"
      ]
    },
    {
      "cell_type": "code",
      "metadata": {
        "id": "619epl4qqbFD",
        "outputId": "0dc6e168-0549-4a4a-ca90-d82d6f6004de",
        "colab": {
          "base_uri": "https://localhost:8080/",
          "height": 420
        }
      },
      "source": [
        "from fbprophet.plot import plot_weekly\n",
        "plot_weekly(model)"
      ],
      "execution_count": 93,
      "outputs": [
        {
          "output_type": "execute_result",
          "data": {
            "text/plain": [
              "[<matplotlib.lines.Line2D at 0x7f252f796da0>,\n",
              " <matplotlib.collections.PolyCollection at 0x7f252f7ae6a0>]"
            ]
          },
          "metadata": {
            "tags": []
          },
          "execution_count": 93
        },
        {
          "output_type": "display_data",
          "data": {
            "image/png": "[encoded data removed]",
            "text/plain": [
              "<Figure size 720x432 with 1 Axes>"
            ]
          },
          "metadata": {
            "tags": []
          }
        }
      ]
    },
    {
      "cell_type": "code",
      "metadata": {
        "id": "kJ2mbLOpqhQP"
      },
      "source": [
        ""
      ],
      "execution_count": null,
      "outputs": []
    }
  ]
}